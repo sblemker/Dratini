{
 "cells": [
  {
   "cell_type": "markdown",
   "metadata": {},
   "source": [
    "# Finding Dratini"
   ]
  },
  {
   "cell_type": "markdown",
   "metadata": {},
   "source": [
    "<img src=\"http://cdn.bulbagarden.net/upload/c/cc/147Dratini.png\" width=\"180\" height=\"100\" style=\"float:left\"/> "
   ]
  },
  {
   "cell_type": "markdown",
   "metadata": {},
   "source": [
    "In this exercise we explore the relationship between Pokemon co-occurrence information and Dratini spawns. We will predict where Dratini is likely to appear using logistic regression and an SVM. "
   ]
  },
  {
   "cell_type": "code",
   "execution_count": 26,
   "metadata": {
    "collapsed": true
   },
   "outputs": [],
   "source": [
    "import numpy as np\n",
    "import math\n",
    "import pandas as pd\n",
    "import seaborn as sns\n",
    "import matplotlib.pyplot as plt\n",
    "import mpl_toolkits\n",
    "import heapq\n",
    "from mpl_toolkits.basemap import Basemap\n",
    "from sklearn.linear_model import LogisticRegression\n",
    "from sklearn import decomposition\n",
    "from sklearn import svm"
   ]
  },
  {
   "cell_type": "markdown",
   "metadata": {},
   "source": [
    "Let's read in the data and check out the preview. "
   ]
  },
  {
   "cell_type": "code",
   "execution_count": 27,
   "metadata": {
    "collapsed": false
   },
   "outputs": [
    {
     "data": {
      "text/html": [
       "<div>\n",
       "<table border=\"1\" class=\"dataframe\">\n",
       "  <thead>\n",
       "    <tr style=\"text-align: right;\">\n",
       "      <th></th>\n",
       "      <th>num</th>\n",
       "      <th>lat</th>\n",
       "      <th>lng</th>\n",
       "      <th>distance</th>\n",
       "      <th>1</th>\n",
       "      <th>10</th>\n",
       "      <th>100</th>\n",
       "      <th>101</th>\n",
       "      <th>102</th>\n",
       "      <th>103</th>\n",
       "      <th>...</th>\n",
       "      <th>91</th>\n",
       "      <th>92</th>\n",
       "      <th>93</th>\n",
       "      <th>94</th>\n",
       "      <th>95</th>\n",
       "      <th>96</th>\n",
       "      <th>97</th>\n",
       "      <th>98</th>\n",
       "      <th>99</th>\n",
       "      <th>dratini_here</th>\n",
       "    </tr>\n",
       "  </thead>\n",
       "  <tbody>\n",
       "    <tr>\n",
       "      <th>0</th>\n",
       "      <td>98</td>\n",
       "      <td>37.736643</td>\n",
       "      <td>-122.177133</td>\n",
       "      <td>0.000000</td>\n",
       "      <td>1</td>\n",
       "      <td>4</td>\n",
       "      <td>0</td>\n",
       "      <td>0</td>\n",
       "      <td>2</td>\n",
       "      <td>0</td>\n",
       "      <td>...</td>\n",
       "      <td>0</td>\n",
       "      <td>1</td>\n",
       "      <td>0</td>\n",
       "      <td>0</td>\n",
       "      <td>0</td>\n",
       "      <td>0</td>\n",
       "      <td>0</td>\n",
       "      <td>3</td>\n",
       "      <td>0</td>\n",
       "      <td>0</td>\n",
       "    </tr>\n",
       "    <tr>\n",
       "      <th>1</th>\n",
       "      <td>13</td>\n",
       "      <td>37.736698</td>\n",
       "      <td>-122.172787</td>\n",
       "      <td>0.382338</td>\n",
       "      <td>1</td>\n",
       "      <td>4</td>\n",
       "      <td>0</td>\n",
       "      <td>0</td>\n",
       "      <td>1</td>\n",
       "      <td>0</td>\n",
       "      <td>...</td>\n",
       "      <td>0</td>\n",
       "      <td>1</td>\n",
       "      <td>0</td>\n",
       "      <td>0</td>\n",
       "      <td>0</td>\n",
       "      <td>0</td>\n",
       "      <td>0</td>\n",
       "      <td>5</td>\n",
       "      <td>0</td>\n",
       "      <td>0</td>\n",
       "    </tr>\n",
       "    <tr>\n",
       "      <th>2</th>\n",
       "      <td>32</td>\n",
       "      <td>37.733748</td>\n",
       "      <td>-122.173408</td>\n",
       "      <td>0.459418</td>\n",
       "      <td>1</td>\n",
       "      <td>4</td>\n",
       "      <td>0</td>\n",
       "      <td>0</td>\n",
       "      <td>2</td>\n",
       "      <td>0</td>\n",
       "      <td>...</td>\n",
       "      <td>0</td>\n",
       "      <td>1</td>\n",
       "      <td>0</td>\n",
       "      <td>0</td>\n",
       "      <td>0</td>\n",
       "      <td>0</td>\n",
       "      <td>0</td>\n",
       "      <td>4</td>\n",
       "      <td>0</td>\n",
       "      <td>0</td>\n",
       "    </tr>\n",
       "    <tr>\n",
       "      <th>3</th>\n",
       "      <td>21</td>\n",
       "      <td>37.741257</td>\n",
       "      <td>-122.178641</td>\n",
       "      <td>0.530117</td>\n",
       "      <td>2</td>\n",
       "      <td>5</td>\n",
       "      <td>0</td>\n",
       "      <td>0</td>\n",
       "      <td>1</td>\n",
       "      <td>0</td>\n",
       "      <td>...</td>\n",
       "      <td>0</td>\n",
       "      <td>1</td>\n",
       "      <td>0</td>\n",
       "      <td>0</td>\n",
       "      <td>0</td>\n",
       "      <td>0</td>\n",
       "      <td>0</td>\n",
       "      <td>5</td>\n",
       "      <td>0</td>\n",
       "      <td>0</td>\n",
       "    </tr>\n",
       "    <tr>\n",
       "      <th>4</th>\n",
       "      <td>118</td>\n",
       "      <td>37.732741</td>\n",
       "      <td>-122.181124</td>\n",
       "      <td>0.558203</td>\n",
       "      <td>1</td>\n",
       "      <td>4</td>\n",
       "      <td>0</td>\n",
       "      <td>0</td>\n",
       "      <td>2</td>\n",
       "      <td>0</td>\n",
       "      <td>...</td>\n",
       "      <td>0</td>\n",
       "      <td>1</td>\n",
       "      <td>0</td>\n",
       "      <td>0</td>\n",
       "      <td>0</td>\n",
       "      <td>0</td>\n",
       "      <td>0</td>\n",
       "      <td>4</td>\n",
       "      <td>0</td>\n",
       "      <td>0</td>\n",
       "    </tr>\n",
       "  </tbody>\n",
       "</table>\n",
       "<p>5 rows × 155 columns</p>\n",
       "</div>"
      ],
      "text/plain": [
       "   num        lat         lng  distance  1  10  100  101  102  103  \\\n",
       "0   98  37.736643 -122.177133  0.000000  1   4    0    0    2    0   \n",
       "1   13  37.736698 -122.172787  0.382338  1   4    0    0    1    0   \n",
       "2   32  37.733748 -122.173408  0.459418  1   4    0    0    2    0   \n",
       "3   21  37.741257 -122.178641  0.530117  2   5    0    0    1    0   \n",
       "4  118  37.732741 -122.181124  0.558203  1   4    0    0    2    0   \n",
       "\n",
       "       ...       91  92  93  94  95  96  97  98  99  dratini_here  \n",
       "0      ...        0   1   0   0   0   0   0   3   0             0  \n",
       "1      ...        0   1   0   0   0   0   0   5   0             0  \n",
       "2      ...        0   1   0   0   0   0   0   4   0             0  \n",
       "3      ...        0   1   0   0   0   0   0   5   0             0  \n",
       "4      ...        0   1   0   0   0   0   0   4   0             0  \n",
       "\n",
       "[5 rows x 155 columns]"
      ]
     },
     "execution_count": 27,
     "metadata": {},
     "output_type": "execute_result"
    }
   ],
   "source": [
    "SF = pd.read_csv('dratini_here.csv').drop([\"Unnamed: 0\"],1)\n",
    "SF.head()"
   ]
  },
  {
   "cell_type": "markdown",
   "metadata": {},
   "source": [
    "We have a list of Pokemon spawns in the San Francisco area. Each row tells us the Pokemon that spawned (given by its Pokemon number), the location and the distance from an arbitrary starting point. The next columns tell us about the co-occurrence information with other Pokemon. All Pokemon that ever spawned within 2km of this location are recorded in the co-occurrence columns labelled by Pokemon number. The final column tells us whether or not Dratini ever spawned within 2km of this location (1 for yes, 0 for no). In this exercise, we will use only the co-occurrence information to predict the Dratini zones. To be fair, we also drop the Dratini information (column \"147\")."
   ]
  },
  {
   "cell_type": "code",
   "execution_count": 28,
   "metadata": {
    "collapsed": false
   },
   "outputs": [],
   "source": [
    "spawns = SF.drop([\"num\",\"lat\",\"lng\",\"distance\",\"147\"],1)"
   ]
  },
  {
   "cell_type": "code",
   "execution_count": 29,
   "metadata": {
    "collapsed": false
   },
   "outputs": [
    {
     "data": {
      "text/html": [
       "<div>\n",
       "<table border=\"1\" class=\"dataframe\">\n",
       "  <thead>\n",
       "    <tr style=\"text-align: right;\">\n",
       "      <th></th>\n",
       "      <th>1</th>\n",
       "      <th>10</th>\n",
       "      <th>100</th>\n",
       "      <th>101</th>\n",
       "      <th>102</th>\n",
       "      <th>103</th>\n",
       "      <th>104</th>\n",
       "      <th>105</th>\n",
       "      <th>106</th>\n",
       "      <th>107</th>\n",
       "      <th>...</th>\n",
       "      <th>91</th>\n",
       "      <th>92</th>\n",
       "      <th>93</th>\n",
       "      <th>94</th>\n",
       "      <th>95</th>\n",
       "      <th>96</th>\n",
       "      <th>97</th>\n",
       "      <th>98</th>\n",
       "      <th>99</th>\n",
       "      <th>dratini_here</th>\n",
       "    </tr>\n",
       "  </thead>\n",
       "  <tbody>\n",
       "    <tr>\n",
       "      <th>0</th>\n",
       "      <td>1</td>\n",
       "      <td>4</td>\n",
       "      <td>0</td>\n",
       "      <td>0</td>\n",
       "      <td>2</td>\n",
       "      <td>0</td>\n",
       "      <td>0</td>\n",
       "      <td>0</td>\n",
       "      <td>0</td>\n",
       "      <td>0</td>\n",
       "      <td>...</td>\n",
       "      <td>0</td>\n",
       "      <td>1</td>\n",
       "      <td>0</td>\n",
       "      <td>0</td>\n",
       "      <td>0</td>\n",
       "      <td>0</td>\n",
       "      <td>0</td>\n",
       "      <td>3</td>\n",
       "      <td>0</td>\n",
       "      <td>0</td>\n",
       "    </tr>\n",
       "    <tr>\n",
       "      <th>1</th>\n",
       "      <td>1</td>\n",
       "      <td>4</td>\n",
       "      <td>0</td>\n",
       "      <td>0</td>\n",
       "      <td>1</td>\n",
       "      <td>0</td>\n",
       "      <td>0</td>\n",
       "      <td>0</td>\n",
       "      <td>0</td>\n",
       "      <td>0</td>\n",
       "      <td>...</td>\n",
       "      <td>0</td>\n",
       "      <td>1</td>\n",
       "      <td>0</td>\n",
       "      <td>0</td>\n",
       "      <td>0</td>\n",
       "      <td>0</td>\n",
       "      <td>0</td>\n",
       "      <td>5</td>\n",
       "      <td>0</td>\n",
       "      <td>0</td>\n",
       "    </tr>\n",
       "    <tr>\n",
       "      <th>2</th>\n",
       "      <td>1</td>\n",
       "      <td>4</td>\n",
       "      <td>0</td>\n",
       "      <td>0</td>\n",
       "      <td>2</td>\n",
       "      <td>0</td>\n",
       "      <td>0</td>\n",
       "      <td>0</td>\n",
       "      <td>0</td>\n",
       "      <td>0</td>\n",
       "      <td>...</td>\n",
       "      <td>0</td>\n",
       "      <td>1</td>\n",
       "      <td>0</td>\n",
       "      <td>0</td>\n",
       "      <td>0</td>\n",
       "      <td>0</td>\n",
       "      <td>0</td>\n",
       "      <td>4</td>\n",
       "      <td>0</td>\n",
       "      <td>0</td>\n",
       "    </tr>\n",
       "    <tr>\n",
       "      <th>3</th>\n",
       "      <td>2</td>\n",
       "      <td>5</td>\n",
       "      <td>0</td>\n",
       "      <td>0</td>\n",
       "      <td>1</td>\n",
       "      <td>0</td>\n",
       "      <td>0</td>\n",
       "      <td>0</td>\n",
       "      <td>0</td>\n",
       "      <td>0</td>\n",
       "      <td>...</td>\n",
       "      <td>0</td>\n",
       "      <td>1</td>\n",
       "      <td>0</td>\n",
       "      <td>0</td>\n",
       "      <td>0</td>\n",
       "      <td>0</td>\n",
       "      <td>0</td>\n",
       "      <td>5</td>\n",
       "      <td>0</td>\n",
       "      <td>0</td>\n",
       "    </tr>\n",
       "    <tr>\n",
       "      <th>4</th>\n",
       "      <td>1</td>\n",
       "      <td>4</td>\n",
       "      <td>0</td>\n",
       "      <td>0</td>\n",
       "      <td>2</td>\n",
       "      <td>0</td>\n",
       "      <td>0</td>\n",
       "      <td>0</td>\n",
       "      <td>0</td>\n",
       "      <td>0</td>\n",
       "      <td>...</td>\n",
       "      <td>0</td>\n",
       "      <td>1</td>\n",
       "      <td>0</td>\n",
       "      <td>0</td>\n",
       "      <td>0</td>\n",
       "      <td>0</td>\n",
       "      <td>0</td>\n",
       "      <td>4</td>\n",
       "      <td>0</td>\n",
       "      <td>0</td>\n",
       "    </tr>\n",
       "  </tbody>\n",
       "</table>\n",
       "<p>5 rows × 150 columns</p>\n",
       "</div>"
      ],
      "text/plain": [
       "   1  10  100  101  102  103  104  105  106  107      ...       91  92  93  \\\n",
       "0  1   4    0    0    2    0    0    0    0    0      ...        0   1   0   \n",
       "1  1   4    0    0    1    0    0    0    0    0      ...        0   1   0   \n",
       "2  1   4    0    0    2    0    0    0    0    0      ...        0   1   0   \n",
       "3  2   5    0    0    1    0    0    0    0    0      ...        0   1   0   \n",
       "4  1   4    0    0    2    0    0    0    0    0      ...        0   1   0   \n",
       "\n",
       "   94  95  96  97  98  99  dratini_here  \n",
       "0   0   0   0   0   3   0             0  \n",
       "1   0   0   0   0   5   0             0  \n",
       "2   0   0   0   0   4   0             0  \n",
       "3   0   0   0   0   5   0             0  \n",
       "4   0   0   0   0   4   0             0  \n",
       "\n",
       "[5 rows x 150 columns]"
      ]
     },
     "execution_count": 29,
     "metadata": {},
     "output_type": "execute_result"
    }
   ],
   "source": [
    "spawns.head()"
   ]
  },
  {
   "cell_type": "markdown",
   "metadata": {},
   "source": [
    "Before applying any learning algorithms, let's explore the data a bit. Which Pokemon might we expect to be indicators of Dratini? Let's find the most common Pokemon in the Dratini zones, normalized by their overall appearance."
   ]
  },
  {
   "cell_type": "code",
   "execution_count": 30,
   "metadata": {
    "collapsed": false
   },
   "outputs": [],
   "source": [
    "percentage_appearance =  (spawns[spawns['dratini_here'] == 1].sum(axis=0) / spawns.sum(axis = 0))\n",
    "percentage_appearance = percentage_appearance[~np.isnan(percentage_appearance)].drop([\"dratini_here\"])"
   ]
  },
  {
   "cell_type": "code",
   "execution_count": 31,
   "metadata": {
    "collapsed": false
   },
   "outputs": [
    {
     "data": {
      "text/plain": [
       "80    0.900000\n",
       "88    0.850394\n",
       "44    0.672956\n",
       "12    0.666667\n",
       "70    0.657210\n",
       "dtype: float64"
      ]
     },
     "execution_count": 31,
     "metadata": {},
     "output_type": "execute_result"
    }
   ],
   "source": [
    "percentage_appearance.sort_values(ascending=False).head()"
   ]
  },
  {
   "cell_type": "markdown",
   "metadata": {},
   "source": [
    "<img src=\"http://cdn.bulbagarden.net/upload/2/2a/044Gloom.png\" width=\"180\" height=\"100\" style=\"float:left\"/> \n",
    "<img src=\"http://cdn.bulbagarden.net/upload/9/9f/070Weepinbell.png\" width=\"180\" height=\"100\" style=\"float:left\"/> \n",
    "<img src=\"http://cdn.bulbagarden.net/upload/8/80/080Slowbro.png\" width=\"180\" height=\"100\" style=\"float:left\"/> \n",
    "<img src=\"http://cdn.bulbagarden.net/upload/d/d1/012Butterfree.png\" width=\"180\" height=\"100\" style=\"float:left\"/> \n",
    "<img src=\"http://cdn.bulbagarden.net/upload/a/a0/088Grimer.png\" width=\"180\" height=\"100\" style=\"float:left\"/>     "
   ]
  },
  {
   "cell_type": "markdown",
   "metadata": {},
   "source": [
    "The left column gives the Pokemon number, while the right column gives the percentage of that Pokemon's appearances which were in a Dratini zone. The 5 most common pokemon in the Dratini zones are 80: Slowbro, 88: Grimer, 44: Gloom, 12: Butterfree, and 70: Weepinbell. Later we can check if these turn out to be important to our prediction function."
   ]
  },
  {
   "cell_type": "markdown",
   "metadata": {},
   "source": [
    "First let's split our data into the training, cross-validation, and test sets at a 60/20/20 split:"
   ]
  },
  {
   "cell_type": "code",
   "execution_count": 32,
   "metadata": {
    "collapsed": false
   },
   "outputs": [
    {
     "name": "stdout",
     "output_type": "stream",
     "text": [
      "6000 2000 2000\n"
     ]
    }
   ],
   "source": [
    "train =SF.sample(frac=0.6)\n",
    "rest = SF.drop(train.index)\n",
    "cross = rest.sample(frac=0.5)\n",
    "test = rest.drop(cross.index)\n",
    "print len(train),len(cross),len(test)"
   ]
  },
  {
   "cell_type": "markdown",
   "metadata": {},
   "source": [
    "And further into the features (co-occurrence information) and the labels (dratini_here value):"
   ]
  },
  {
   "cell_type": "code",
   "execution_count": 33,
   "metadata": {
    "collapsed": false
   },
   "outputs": [],
   "source": [
    "X_all = SF.drop([\"num\",\"lat\",\"lng\",\"distance\",\"dratini_here\",\"147\"],1)\n",
    "y_all = SF.dratini_here\n",
    "X_train = train.drop([\"num\",\"lat\",\"lng\",\"distance\",\"dratini_here\",\"147\"],1)\n",
    "y_train = train.dratini_here\n",
    "X_cross = cross.drop([\"num\",\"lat\",\"lng\",\"distance\",\"dratini_here\",\"147\"],1)\n",
    "y_cross = cross.dratini_here\n",
    "X_test = test.drop([\"num\",\"lat\",\"lng\",\"distance\",\"dratini_here\",\"147\"],1)\n",
    "y_test = test.dratini_here"
   ]
  },
  {
   "cell_type": "markdown",
   "metadata": {},
   "source": [
    "First let's try logistic regression using [sklearn.linear_model.LogisticRegression](http://scikit-learn.org/stable/modules/generated/sklearn.linear_model.LogisticRegression.html). We can test out a few values of the regularization constant $C$ and select the best model. "
   ]
  },
  {
   "cell_type": "code",
   "execution_count": 34,
   "metadata": {
    "collapsed": true
   },
   "outputs": [],
   "source": [
    "#a function to perform logistic regression given the solver and list of C values to try\n",
    "#return a table of (train score, cv score) for each value of C\n",
    "\n",
    "def LRcompare(solver,C,X_train,y_train,X_cross,y_cross):\n",
    "    compare_table = pd.DataFrame(index=[solver], columns=C)\n",
    "    for index, row in compare_table.iterrows():\n",
    "        for C_value in C:\n",
    "            compare_table[C_value].loc[index] = compute_scores(solver,C_value,X_train,y_train,X_cross,y_cross)\n",
    "    \n",
    "    return compare_table\n",
    "\n",
    "def compute_scores(solver_choice,C_value,X_train,y_train,X_cross,y_cross):\n",
    "    model = LogisticRegression(solver = solver_choice, C = C_value)\n",
    "    model.fit(X_train,y_train)\n",
    "    train_score = model.score(X_train,y_train)\n",
    "    cv_score = model.score(X_cross,y_cross)\n",
    "    \n",
    "    return (train_score,cv_score)"
   ]
  },
  {
   "cell_type": "markdown",
   "metadata": {},
   "source": [
    "We will use the *liblinear* solver and feed in the $C$ values we want to test. Smaller values correspond to stronger regularization. "
   ]
  },
  {
   "cell_type": "code",
   "execution_count": 35,
   "metadata": {
    "collapsed": true
   },
   "outputs": [],
   "source": [
    "C = [.001,.01,.1,.5,1,2,10,100,1000]\n",
    "solver = \"liblinear\" #try different ones \n",
    "LR = LRcompare(solver,C,X_train,y_train,X_cross,y_cross)"
   ]
  },
  {
   "cell_type": "code",
   "execution_count": 36,
   "metadata": {
    "collapsed": false
   },
   "outputs": [
    {
     "data": {
      "text/html": [
       "<div>\n",
       "<table border=\"1\" class=\"dataframe\">\n",
       "  <thead>\n",
       "    <tr style=\"text-align: right;\">\n",
       "      <th></th>\n",
       "      <th>0.001</th>\n",
       "      <th>0.01</th>\n",
       "      <th>0.1</th>\n",
       "      <th>0.5</th>\n",
       "      <th>1.0</th>\n",
       "      <th>2.0</th>\n",
       "      <th>10.0</th>\n",
       "      <th>100.0</th>\n",
       "      <th>1000.0</th>\n",
       "    </tr>\n",
       "  </thead>\n",
       "  <tbody>\n",
       "    <tr>\n",
       "      <th>liblinear</th>\n",
       "      <td>(0.906833333333, 0.9115)</td>\n",
       "      <td>(0.930166666667, 0.9345)</td>\n",
       "      <td>(0.943666666667, 0.9525)</td>\n",
       "      <td>(0.946, 0.952)</td>\n",
       "      <td>(0.948, 0.953)</td>\n",
       "      <td>(0.9495, 0.954)</td>\n",
       "      <td>(0.951833333333, 0.9535)</td>\n",
       "      <td>(0.952333333333, 0.9535)</td>\n",
       "      <td>(0.9525, 0.9535)</td>\n",
       "    </tr>\n",
       "  </tbody>\n",
       "</table>\n",
       "</div>"
      ],
      "text/plain": [
       "                           0.001                     0.010     \\\n",
       "liblinear  (0.906833333333, 0.9115)  (0.930166666667, 0.9345)   \n",
       "\n",
       "                           0.100           0.500           1.000     \\\n",
       "liblinear  (0.943666666667, 0.9525)  (0.946, 0.952)  (0.948, 0.953)   \n",
       "\n",
       "                  2.000                     10.000    \\\n",
       "liblinear  (0.9495, 0.954)  (0.951833333333, 0.9535)   \n",
       "\n",
       "                           100.000           1000.000  \n",
       "liblinear  (0.952333333333, 0.9535)  (0.9525, 0.9535)  "
      ]
     },
     "execution_count": 36,
     "metadata": {},
     "output_type": "execute_result"
    }
   ],
   "source": [
    "LR"
   ]
  },
  {
   "cell_type": "markdown",
   "metadata": {},
   "source": [
    "For each value of $C$ we can look up the model score given on the (training set, cross-validation set). In this case, $C=2$ is giving the best performance on the cross-validation set at a mean accuracy of 95.4%, so this is the model we will choose. Notice how the score on the training set continues to increase as $C$ increases, but the score on the cross-validation set begins to decrease after $C=2$. This indicates that the model is overfitting due to weak regularization in this regime."
   ]
  },
  {
   "cell_type": "markdown",
   "metadata": {},
   "source": [
    "Let's look at our best model a little more closely. "
   ]
  },
  {
   "cell_type": "code",
   "execution_count": 37,
   "metadata": {
    "collapsed": false
   },
   "outputs": [
    {
     "data": {
      "text/plain": [
       "LogisticRegression(C=2, class_weight=None, dual=False, fit_intercept=True,\n",
       "          intercept_scaling=1, max_iter=100, multi_class='ovr', n_jobs=1,\n",
       "          penalty='l2', random_state=None, solver='liblinear', tol=0.0001,\n",
       "          verbose=0, warm_start=False)"
      ]
     },
     "execution_count": 37,
     "metadata": {},
     "output_type": "execute_result"
    }
   ],
   "source": [
    "model = LogisticRegression(C=2)\n",
    "model.fit(X_all,y_all)"
   ]
  },
  {
   "cell_type": "markdown",
   "metadata": {},
   "source": [
    "We can extract the weights of the features:"
   ]
  },
  {
   "cell_type": "code",
   "execution_count": 39,
   "metadata": {
    "collapsed": true
   },
   "outputs": [],
   "source": [
    "coeffs = model.coef_[0]"
   ]
  },
  {
   "cell_type": "markdown",
   "metadata": {},
   "source": [
    "And check the values and location of the largest weights:"
   ]
  },
  {
   "cell_type": "code",
   "execution_count": 40,
   "metadata": {
    "collapsed": false
   },
   "outputs": [
    {
     "data": {
      "text/plain": [
       "[4.0117378029489279,\n",
       " 3.5113036749872553,\n",
       " 2.9869836337473421,\n",
       " 2.879167149700403,\n",
       " 2.8236749151051677]"
      ]
     },
     "execution_count": 40,
     "metadata": {},
     "output_type": "execute_result"
    }
   ],
   "source": [
    "heapq.nlargest(5,coeffs)"
   ]
  },
  {
   "cell_type": "code",
   "execution_count": 41,
   "metadata": {
    "collapsed": false
   },
   "outputs": [
    {
     "data": {
      "text/plain": [
       "array([128,  23,  88,  79, 117])"
      ]
     },
     "execution_count": 41,
     "metadata": {},
     "output_type": "execute_result"
    }
   ],
   "source": [
    "coeffs.argsort()[-5:][::-1]"
   ]
  },
  {
   "cell_type": "markdown",
   "metadata": {},
   "source": [
    "And finally let's check which Pokemon numbers these weights correspond to:"
   ]
  },
  {
   "cell_type": "code",
   "execution_count": 42,
   "metadata": {
    "collapsed": false
   },
   "outputs": [
    {
     "name": "stdout",
     "output_type": "stream",
     "text": [
      "80 12 36 44 70\n"
     ]
    }
   ],
   "source": [
    "print list(X_all)[128], list(X_all)[23], list(X_all)[79], list(X_all)[88], list(X_all)[117] "
   ]
  },
  {
   "cell_type": "markdown",
   "metadata": {},
   "source": [
    "These are Slowbro, Butterfree, Clefable, Gloom, and Weepinbell.  \n",
    "Since we're using a linear classifier, we can loosely interpret the largest weights as those which are important to the prediction function. We see here that our intuition about which Pokemon frequently spawn in Dratini zones turned out to be useful for classification."
   ]
  },
  {
   "cell_type": "markdown",
   "metadata": {},
   "source": [
    "Next let's try to improve our model performance by using [sklearn.svm.SVC](http://scikit-learn.org/stable/modules/generated/sklearn.svm.SVC.html#sklearn.svm.SVC.get_params). Again we can test out different regularization strengths, and this time we can test out different kernels. "
   ]
  },
  {
   "cell_type": "code",
   "execution_count": 43,
   "metadata": {
    "collapsed": true
   },
   "outputs": [],
   "source": [
    "#a function to perform an SVM learning algorithm given a list of kernels and C values to try\n",
    "#return a table of (train score, cv score) for each value of C and each kernel\n",
    "\n",
    "def SVMcompare(kernels,C,X_train,y_train,X_cross,y_cross):\n",
    "    compare_table = pd.DataFrame(index=kernels, columns=C)\n",
    "    for index, row in compare_table.iterrows():\n",
    "        for C_value in C:\n",
    "            compare_table[C_value].loc[index] = compute_scores_SVM(index,C_value,X_train,y_train,X_cross,y_cross)\n",
    "    \n",
    "    return compare_table\n",
    "\n",
    "def compute_scores_SVM(kernel_choice,C_value,X_train,y_train,X_cross,y_cross):\n",
    "    model = svm.SVC(kernel = kernel_choice, C = C_value)\n",
    "    model.fit(X_train,y_train)\n",
    "    train_score = model.score(X_train,y_train)\n",
    "    cv_score = model.score(X_cross,y_cross)\n",
    "    \n",
    "    return (train_score,cv_score)"
   ]
  },
  {
   "cell_type": "markdown",
   "metadata": {},
   "source": [
    "We will test 4 of the available kernels, but it's also possible to write your own. "
   ]
  },
  {
   "cell_type": "code",
   "execution_count": 44,
   "metadata": {
    "collapsed": true
   },
   "outputs": [],
   "source": [
    "kernels = [\"linear\",\"poly\",\"rbf\",\"sigmoid\"]  \n",
    "SVM = SVMcompare(kernels,C,X_train,y_train,X_cross,y_cross) "
   ]
  },
  {
   "cell_type": "code",
   "execution_count": 45,
   "metadata": {
    "collapsed": false
   },
   "outputs": [
    {
     "data": {
      "text/html": [
       "<div>\n",
       "<table border=\"1\" class=\"dataframe\">\n",
       "  <thead>\n",
       "    <tr style=\"text-align: right;\">\n",
       "      <th></th>\n",
       "      <th>0.001</th>\n",
       "      <th>0.01</th>\n",
       "      <th>0.1</th>\n",
       "      <th>0.5</th>\n",
       "      <th>1.0</th>\n",
       "      <th>2.0</th>\n",
       "      <th>10.0</th>\n",
       "      <th>100.0</th>\n",
       "      <th>1000.0</th>\n",
       "    </tr>\n",
       "  </thead>\n",
       "  <tbody>\n",
       "    <tr>\n",
       "      <th>linear</th>\n",
       "      <td>(0.925833333333, 0.936)</td>\n",
       "      <td>(0.940833333333, 0.949)</td>\n",
       "      <td>(0.947833333333, 0.952)</td>\n",
       "      <td>(0.954, 0.955)</td>\n",
       "      <td>(0.956833333333, 0.9515)</td>\n",
       "      <td>(0.956666666667, 0.952)</td>\n",
       "      <td>(0.956666666667, 0.9505)</td>\n",
       "      <td>(0.957833333333, 0.9505)</td>\n",
       "      <td>(0.957666666667, 0.9495)</td>\n",
       "    </tr>\n",
       "    <tr>\n",
       "      <th>poly</th>\n",
       "      <td>(0.931166666667, 0.9365)</td>\n",
       "      <td>(0.947166666667, 0.9495)</td>\n",
       "      <td>(0.966666666667, 0.965)</td>\n",
       "      <td>(0.978166666667, 0.97)</td>\n",
       "      <td>(0.986, 0.971)</td>\n",
       "      <td>(0.99, 0.9735)</td>\n",
       "      <td>(0.995833333333, 0.9715)</td>\n",
       "      <td>(0.998166666667, 0.972)</td>\n",
       "      <td>(0.999333333333, 0.9655)</td>\n",
       "    </tr>\n",
       "    <tr>\n",
       "      <th>rbf</th>\n",
       "      <td>(0.869333333333, 0.8735)</td>\n",
       "      <td>(0.869333333333, 0.8735)</td>\n",
       "      <td>(0.933, 0.9305)</td>\n",
       "      <td>(0.968833333333, 0.964)</td>\n",
       "      <td>(0.979, 0.972)</td>\n",
       "      <td>(0.987166666667, 0.9755)</td>\n",
       "      <td>(0.997166666667, 0.981)</td>\n",
       "      <td>(0.999666666667, 0.9805)</td>\n",
       "      <td>(0.999833333333, 0.98)</td>\n",
       "    </tr>\n",
       "    <tr>\n",
       "      <th>sigmoid</th>\n",
       "      <td>(0.869333333333, 0.8735)</td>\n",
       "      <td>(0.869333333333, 0.8735)</td>\n",
       "      <td>(0.795666666667, 0.7875)</td>\n",
       "      <td>(0.769166666667, 0.764)</td>\n",
       "      <td>(0.766166666667, 0.762)</td>\n",
       "      <td>(0.764666666667, 0.761)</td>\n",
       "      <td>(0.763, 0.76)</td>\n",
       "      <td>(0.762833333333, 0.76)</td>\n",
       "      <td>(0.762666666667, 0.76)</td>\n",
       "    </tr>\n",
       "  </tbody>\n",
       "</table>\n",
       "</div>"
      ],
      "text/plain": [
       "                         0.001                     0.010     \\\n",
       "linear    (0.925833333333, 0.936)   (0.940833333333, 0.949)   \n",
       "poly     (0.931166666667, 0.9365)  (0.947166666667, 0.9495)   \n",
       "rbf      (0.869333333333, 0.8735)  (0.869333333333, 0.8735)   \n",
       "sigmoid  (0.869333333333, 0.8735)  (0.869333333333, 0.8735)   \n",
       "\n",
       "                         0.100                    0.500     \\\n",
       "linear    (0.947833333333, 0.952)           (0.954, 0.955)   \n",
       "poly      (0.966666666667, 0.965)   (0.978166666667, 0.97)   \n",
       "rbf               (0.933, 0.9305)  (0.968833333333, 0.964)   \n",
       "sigmoid  (0.795666666667, 0.7875)  (0.769166666667, 0.764)   \n",
       "\n",
       "                         1.000                     2.000     \\\n",
       "linear   (0.956833333333, 0.9515)   (0.956666666667, 0.952)   \n",
       "poly               (0.986, 0.971)            (0.99, 0.9735)   \n",
       "rbf                (0.979, 0.972)  (0.987166666667, 0.9755)   \n",
       "sigmoid   (0.766166666667, 0.762)   (0.764666666667, 0.761)   \n",
       "\n",
       "                         10.000                    100.000   \\\n",
       "linear   (0.956666666667, 0.9505)  (0.957833333333, 0.9505)   \n",
       "poly     (0.995833333333, 0.9715)   (0.998166666667, 0.972)   \n",
       "rbf       (0.997166666667, 0.981)  (0.999666666667, 0.9805)   \n",
       "sigmoid             (0.763, 0.76)    (0.762833333333, 0.76)   \n",
       "\n",
       "                         1000.000  \n",
       "linear   (0.957666666667, 0.9495)  \n",
       "poly     (0.999333333333, 0.9655)  \n",
       "rbf        (0.999833333333, 0.98)  \n",
       "sigmoid    (0.762666666667, 0.76)  "
      ]
     },
     "execution_count": 45,
     "metadata": {},
     "output_type": "execute_result"
    }
   ],
   "source": [
    "SVM"
   ]
  },
  {
   "cell_type": "markdown",
   "metadata": {},
   "source": [
    "Again we select the model based on the highest mean accuracy on the cross-validation set. In this case, we should choose $C=10$ with an \"rbf\" kernel. "
   ]
  },
  {
   "cell_type": "code",
   "execution_count": 46,
   "metadata": {
    "collapsed": true
   },
   "outputs": [],
   "source": [
    "#use the best model \n",
    "model = svm.SVC(kernel = \"rbf\", C = 10)\n",
    "model.fit(X_train,y_train)\n",
    "train_score = model.score(X_train,y_train)\n",
    "cv_score = model.score(X_cross,y_cross)\n",
    "test_score = model.score(X_test,y_test)"
   ]
  },
  {
   "cell_type": "markdown",
   "metadata": {},
   "source": [
    "Because we used the cross-validation set for model selection, we should now report our final mean accuracy on the test set which has remained independent of both the learned parameters and the model. "
   ]
  },
  {
   "cell_type": "code",
   "execution_count": 48,
   "metadata": {
    "collapsed": false
   },
   "outputs": [
    {
     "data": {
      "text/plain": [
       "0.98150000000000004"
      ]
     },
     "execution_count": 48,
     "metadata": {},
     "output_type": "execute_result"
    }
   ],
   "source": [
    "test_score"
   ]
  },
  {
   "cell_type": "markdown",
   "metadata": {},
   "source": [
    "We have achieved a mean accuracy of 98.15% when predicting the Dratini zones. "
   ]
  },
  {
   "cell_type": "markdown",
   "metadata": {},
   "source": [
    "Finally, let's plot a heat map of where to find Dratini based on the predictions of our model. "
   ]
  },
  {
   "cell_type": "code",
   "execution_count": 49,
   "metadata": {
    "collapsed": false
   },
   "outputs": [
    {
     "data": {
      "text/html": [
       "<div>\n",
       "<table border=\"1\" class=\"dataframe\">\n",
       "  <thead>\n",
       "    <tr style=\"text-align: right;\">\n",
       "      <th></th>\n",
       "      <th>lat</th>\n",
       "      <th>lng</th>\n",
       "      <th>scores</th>\n",
       "    </tr>\n",
       "  </thead>\n",
       "  <tbody>\n",
       "    <tr>\n",
       "      <th>0</th>\n",
       "      <td>37.736643</td>\n",
       "      <td>-122.177133</td>\n",
       "      <td>-1.669948</td>\n",
       "    </tr>\n",
       "    <tr>\n",
       "      <th>1</th>\n",
       "      <td>37.736698</td>\n",
       "      <td>-122.172787</td>\n",
       "      <td>-1.660803</td>\n",
       "    </tr>\n",
       "    <tr>\n",
       "      <th>2</th>\n",
       "      <td>37.733748</td>\n",
       "      <td>-122.173408</td>\n",
       "      <td>-1.414577</td>\n",
       "    </tr>\n",
       "    <tr>\n",
       "      <th>3</th>\n",
       "      <td>37.741257</td>\n",
       "      <td>-122.178641</td>\n",
       "      <td>-1.186113</td>\n",
       "    </tr>\n",
       "    <tr>\n",
       "      <th>4</th>\n",
       "      <td>37.732741</td>\n",
       "      <td>-122.181124</td>\n",
       "      <td>-1.819549</td>\n",
       "    </tr>\n",
       "  </tbody>\n",
       "</table>\n",
       "</div>"
      ],
      "text/plain": [
       "         lat         lng    scores\n",
       "0  37.736643 -122.177133 -1.669948\n",
       "1  37.736698 -122.172787 -1.660803\n",
       "2  37.733748 -122.173408 -1.414577\n",
       "3  37.741257 -122.178641 -1.186113\n",
       "4  37.732741 -122.181124 -1.819549"
      ]
     },
     "execution_count": 49,
     "metadata": {},
     "output_type": "execute_result"
    }
   ],
   "source": [
    "map_info = SF[['lat','lng']]\n",
    "scores_all = model.decision_function(X_all)\n",
    "map_info = map_info.assign(scores=scores_all)\n",
    "map_info.head()"
   ]
  },
  {
   "cell_type": "markdown",
   "metadata": {},
   "source": [
    "For each latitude and longitude, we feed the co-occurance information of that location to the model which outputs a score using the [decision_function](http://scikit-learn.org/stable/modules/svm.html#scores-probabilities) method. The score is the distance of that point from the seperating hyperplane (predict 1 if score > 0), so it gives us a relative measure of how certain the model is of that prediction. We will use the score information to fill in the colour of each point on the map.    "
   ]
  },
  {
   "cell_type": "markdown",
   "metadata": {},
   "source": [
    "Basemap is a nice tool for drawing maps, and you can find a good tutorial [here](http://introtopython.org/visualization_earthquakes.html). "
   ]
  },
  {
   "cell_type": "code",
   "execution_count": 53,
   "metadata": {
    "collapsed": false
   },
   "outputs": [
    {
     "data": {
      "image/png": "[encoded data removed]",
      "text/plain": [
       "<matplotlib.figure.Figure at 0xecaa950>"
      ]
     },
     "metadata": {},
     "output_type": "display_data"
    }
   ],
   "source": [
    "map = Basemap(projection='merc', lat_0 = 37.6, lon_0 = -122.5,\n",
    "    resolution = 'h', area_thresh = 0.05,\n",
    "    llcrnrlon=-122.8, llcrnrlat=37.2,\n",
    "    urcrnrlon=-121.8, urcrnrlat=38.1)\n",
    " \n",
    "map.drawcoastlines()\n",
    "map.drawcountries()\n",
    "map.drawmapboundary()\n",
    "\n",
    "lons = map_info['lng'].tolist()\n",
    "lats = map_info['lat'].tolist()\n",
    "vals = map_info['scores'].tolist()\n",
    "x,y = map(lons, lats)\n",
    "\n",
    "map.scatter(x,y,c=vals,marker=\".\",cmap='afmhot', lw =0)\n",
    "plt.colorbar() \n",
    "plt.show()"
   ]
  },
  {
   "cell_type": "markdown",
   "metadata": {},
   "source": [
    "The yellow pockets are where we're likely to find Dratini!"
   ]
  },
  {
   "cell_type": "markdown",
   "metadata": {},
   "source": [
    "In this exercise, we saw that the occurrence of a certain Pokemon can successfully be predicted using the co-occurrence information of other Pokemon. The features were created by asking how many times each Pokemon occured within 2Km of each location. Could we improve the features by moving away from a binary interpretation (either within 2Km or not)? For example, we could assign a score to each occurrence based on how far away it was. Similarly, we could replace the dratini_here values with a continuous variable (distance to nearest Dratini spawn for example). What other modifications to our features might improve predictive power?  "
   ]
  }
 ],
 "metadata": {
  "anaconda-cloud": {},
  "kernelspec": {
   "display_name": "Python [default]",
   "language": "python",
   "name": "python2"
  },
  "language_info": {
   "codemirror_mode": {
    "name": "ipython",
    "version": 2
   },
   "file_extension": ".py",
   "mimetype": "text/x-python",
   "name": "python",
   "nbconvert_exporter": "python",
   "pygments_lexer": "ipython2",
   "version": "2.7.13"
  }
 },
 "nbformat": 4,
 "nbformat_minor": 2
}
